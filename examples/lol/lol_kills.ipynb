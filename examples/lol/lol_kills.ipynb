{
 "cells": [
  {
   "cell_type": "markdown",
   "metadata": {},
   "source": [
    "#### Mapa de kills no League of Legends com Datashader\n",
    "> Importar os pacotes necessários para que seja plotado o mapa com os abates dos jogadores"
   ]
  },
  {
   "cell_type": "code",
   "execution_count": 3,
   "metadata": {},
   "outputs": [],
   "source": [
    "import pandas as pd\n",
    "import datashader as ds\n",
    "from datashader import transfer_functions as tf\n",
    "import numpy as np"
   ]
  },
  {
   "cell_type": "markdown",
   "metadata": {},
   "source": [
    "> DataFrame com os registros de abates do arquivo csv e a função .head()"
   ]
  },
  {
   "cell_type": "code",
   "execution_count": 5,
   "metadata": {},
   "outputs": [
    {
     "data": {
      "text/html": [
       "<div>\n",
       "<style scoped>\n",
       "    .dataframe tbody tr th:only-of-type {\n",
       "        vertical-align: middle;\n",
       "    }\n",
       "\n",
       "    .dataframe tbody tr th {\n",
       "        vertical-align: top;\n",
       "    }\n",
       "\n",
       "    .dataframe thead th {\n",
       "        text-align: right;\n",
       "    }\n",
       "</style>\n",
       "<table border=\"1\" class=\"dataframe\">\n",
       "  <thead>\n",
       "    <tr style=\"text-align: right;\">\n",
       "      <th></th>\n",
       "      <th>Address</th>\n",
       "      <th>Team</th>\n",
       "      <th>Time</th>\n",
       "      <th>Victim</th>\n",
       "      <th>Killer</th>\n",
       "      <th>Assist_1</th>\n",
       "      <th>Assist_2</th>\n",
       "      <th>Assist_3</th>\n",
       "      <th>Assist_4</th>\n",
       "      <th>x_pos</th>\n",
       "      <th>y_pos</th>\n",
       "    </tr>\n",
       "  </thead>\n",
       "  <tbody>\n",
       "    <tr>\n",
       "      <th>0</th>\n",
       "      <td>http://matchhistory.na.leagueoflegends.com/en/...</td>\n",
       "      <td>bKills</td>\n",
       "      <td>10.820</td>\n",
       "      <td>C9 Hai</td>\n",
       "      <td>TSM Bjergsen</td>\n",
       "      <td>NaN</td>\n",
       "      <td>NaN</td>\n",
       "      <td>NaN</td>\n",
       "      <td>NaN</td>\n",
       "      <td>9229</td>\n",
       "      <td>8469</td>\n",
       "    </tr>\n",
       "    <tr>\n",
       "      <th>1</th>\n",
       "      <td>http://matchhistory.na.leagueoflegends.com/en/...</td>\n",
       "      <td>bKills</td>\n",
       "      <td>16.286</td>\n",
       "      <td>C9 LemonNation</td>\n",
       "      <td>TSM WildTurtle</td>\n",
       "      <td>TSM Santorin</td>\n",
       "      <td>TSM Bjergsen</td>\n",
       "      <td>TSM Lustboy</td>\n",
       "      <td>NaN</td>\n",
       "      <td>13908</td>\n",
       "      <td>5960</td>\n",
       "    </tr>\n",
       "    <tr>\n",
       "      <th>2</th>\n",
       "      <td>http://matchhistory.na.leagueoflegends.com/en/...</td>\n",
       "      <td>bKills</td>\n",
       "      <td>18.733</td>\n",
       "      <td>C9 Hai</td>\n",
       "      <td>TSM Bjergsen</td>\n",
       "      <td>TSM Santorin</td>\n",
       "      <td>TSM WildTurtle</td>\n",
       "      <td>TSM Lustboy</td>\n",
       "      <td>NaN</td>\n",
       "      <td>8281</td>\n",
       "      <td>7889</td>\n",
       "    </tr>\n",
       "    <tr>\n",
       "      <th>3</th>\n",
       "      <td>http://matchhistory.na.leagueoflegends.com/en/...</td>\n",
       "      <td>bKills</td>\n",
       "      <td>18.880</td>\n",
       "      <td>C9 Meteos</td>\n",
       "      <td>TSM Dyrus</td>\n",
       "      <td>TSM Santorin</td>\n",
       "      <td>TSM Bjergsen</td>\n",
       "      <td>TSM WildTurtle</td>\n",
       "      <td>TSM Lustboy</td>\n",
       "      <td>8522</td>\n",
       "      <td>8895</td>\n",
       "    </tr>\n",
       "    <tr>\n",
       "      <th>4</th>\n",
       "      <td>http://matchhistory.na.leagueoflegends.com/en/...</td>\n",
       "      <td>bKills</td>\n",
       "      <td>27.005</td>\n",
       "      <td>C9 Balls</td>\n",
       "      <td>TSM Bjergsen</td>\n",
       "      <td>TSM Dyrus</td>\n",
       "      <td>TSM Santorin</td>\n",
       "      <td>TSM WildTurtle</td>\n",
       "      <td>TSM Lustboy</td>\n",
       "      <td>8902</td>\n",
       "      <td>7643</td>\n",
       "    </tr>\n",
       "  </tbody>\n",
       "</table>\n",
       "</div>"
      ],
      "text/plain": [
       "                                             Address    Team    Time  \\\n",
       "0  http://matchhistory.na.leagueoflegends.com/en/...  bKills  10.820   \n",
       "1  http://matchhistory.na.leagueoflegends.com/en/...  bKills  16.286   \n",
       "2  http://matchhistory.na.leagueoflegends.com/en/...  bKills  18.733   \n",
       "3  http://matchhistory.na.leagueoflegends.com/en/...  bKills  18.880   \n",
       "4  http://matchhistory.na.leagueoflegends.com/en/...  bKills  27.005   \n",
       "\n",
       "           Victim          Killer      Assist_1        Assist_2  \\\n",
       "0          C9 Hai    TSM Bjergsen           NaN             NaN   \n",
       "1  C9 LemonNation  TSM WildTurtle  TSM Santorin    TSM Bjergsen   \n",
       "2          C9 Hai    TSM Bjergsen  TSM Santorin  TSM WildTurtle   \n",
       "3       C9 Meteos       TSM Dyrus  TSM Santorin    TSM Bjergsen   \n",
       "4        C9 Balls    TSM Bjergsen     TSM Dyrus    TSM Santorin   \n",
       "\n",
       "         Assist_3     Assist_4  x_pos y_pos  \n",
       "0             NaN          NaN   9229  8469  \n",
       "1     TSM Lustboy          NaN  13908  5960  \n",
       "2     TSM Lustboy          NaN   8281  7889  \n",
       "3  TSM WildTurtle  TSM Lustboy   8522  8895  \n",
       "4  TSM WildTurtle  TSM Lustboy   8902  7643  "
      ]
     },
     "execution_count": 5,
     "metadata": {},
     "output_type": "execute_result"
    }
   ],
   "source": [
    "df = pd.read_csv('kills.csv.zip', compression='zip')\n",
    "df.head()"
   ]
  },
  {
   "cell_type": "markdown",
   "metadata": {},
   "source": [
    "> Trabalharemos com as colunas de tempo (time) e os eixos x (x_pos) e y (y_pos)."
   ]
  },
  {
   "cell_type": "code",
   "execution_count": 6,
   "metadata": {},
   "outputs": [],
   "source": [
    "df = df.drop(['Address', 'Team', 'Victim', 'Killer', 'Assist_1', 'Assist_2', 'Assist_3', 'Assist_4'], axis=1)\n",
    "df = df.rename(columns={'Time': 'time'})\n",
    "df = df.loc[df.x_pos != 'TooEarly']\n",
    "df = df.loc[df.x_pos.notnull()]\n",
    "df.x_pos = df.x_pos.apply(lambda x: int(x))\n",
    "df.y_pos = df.y_pos.apply(lambda y: int(y))"
   ]
  },
  {
   "cell_type": "markdown",
   "metadata": {},
   "source": [
    "> Os abates estão sendo concentrados em 3 momentos, até os 16 minutos onde podemos estimar que seja o early game, até os 24 minutos onde podem estar os abates que ocorreram em middle game e a cima dos 32 minutos os abates que ocorreram no late game."
   ]
  },
  {
   "cell_type": "code",
   "execution_count": 7,
   "metadata": {},
   "outputs": [
    {
     "data": {
      "text/html": [
       "<div>\n",
       "<style scoped>\n",
       "    .dataframe tbody tr th:only-of-type {\n",
       "        vertical-align: middle;\n",
       "    }\n",
       "\n",
       "    .dataframe tbody tr th {\n",
       "        vertical-align: top;\n",
       "    }\n",
       "\n",
       "    .dataframe thead th {\n",
       "        text-align: right;\n",
       "    }\n",
       "</style>\n",
       "<table border=\"1\" class=\"dataframe\">\n",
       "  <thead>\n",
       "    <tr style=\"text-align: right;\">\n",
       "      <th></th>\n",
       "      <th>time</th>\n",
       "      <th>x_pos</th>\n",
       "      <th>y_pos</th>\n",
       "    </tr>\n",
       "  </thead>\n",
       "  <tbody>\n",
       "    <tr>\n",
       "      <th>count</th>\n",
       "      <td>190823.000000</td>\n",
       "      <td>190823.000000</td>\n",
       "      <td>190823.000000</td>\n",
       "    </tr>\n",
       "    <tr>\n",
       "      <th>mean</th>\n",
       "      <td>24.545016</td>\n",
       "      <td>7553.509933</td>\n",
       "      <td>7591.560834</td>\n",
       "    </tr>\n",
       "    <tr>\n",
       "      <th>std</th>\n",
       "      <td>11.152311</td>\n",
       "      <td>3692.012505</td>\n",
       "      <td>3661.199082</td>\n",
       "    </tr>\n",
       "    <tr>\n",
       "      <th>min</th>\n",
       "      <td>0.845000</td>\n",
       "      <td>65.000000</td>\n",
       "      <td>185.000000</td>\n",
       "    </tr>\n",
       "    <tr>\n",
       "      <th>25%</th>\n",
       "      <td>16.018500</td>\n",
       "      <td>4692.000000</td>\n",
       "      <td>4875.000000</td>\n",
       "    </tr>\n",
       "    <tr>\n",
       "      <th>50%</th>\n",
       "      <td>24.637000</td>\n",
       "      <td>7483.000000</td>\n",
       "      <td>7729.000000</td>\n",
       "    </tr>\n",
       "    <tr>\n",
       "      <th>75%</th>\n",
       "      <td>32.174500</td>\n",
       "      <td>10506.000000</td>\n",
       "      <td>10349.000000</td>\n",
       "    </tr>\n",
       "    <tr>\n",
       "      <th>max</th>\n",
       "      <td>94.536000</td>\n",
       "      <td>14650.000000</td>\n",
       "      <td>14644.000000</td>\n",
       "    </tr>\n",
       "  </tbody>\n",
       "</table>\n",
       "</div>"
      ],
      "text/plain": [
       "                time          x_pos          y_pos\n",
       "count  190823.000000  190823.000000  190823.000000\n",
       "mean       24.545016    7553.509933    7591.560834\n",
       "std        11.152311    3692.012505    3661.199082\n",
       "min         0.845000      65.000000     185.000000\n",
       "25%        16.018500    4692.000000    4875.000000\n",
       "50%        24.637000    7483.000000    7729.000000\n",
       "75%        32.174500   10506.000000   10349.000000\n",
       "max        94.536000   14650.000000   14644.000000"
      ]
     },
     "execution_count": 7,
     "metadata": {},
     "output_type": "execute_result"
    }
   ],
   "source": [
    "df.describe()"
   ]
  },
  {
   "cell_type": "markdown",
   "metadata": {},
   "source": [
    "> A função create_phase_category retornará o DataFrame atualizado com uma nova coluna: phase. Essa coluna é do tipo category e possuí três tipos diferentes: early, mid e late."
   ]
  },
  {
   "cell_type": "code",
   "execution_count": 9,
   "metadata": {},
   "outputs": [],
   "source": [
    "def create_phase_category(df):\n",
    "    conditions = [\n",
    "        (df.time<17),\n",
    "        (17<df.time) & (df.time<32),\n",
    "        (32<df.time)]\n",
    "\n",
    "    choices = ['early', 'mid', 'late']\n",
    "    df['phase'] = np.select(conditions, choices, default='very_early')\n",
    "    df['phase'] = df['phase'].astype('category')\n",
    "    \n",
    "    return(df)\n",
    "  \n",
    "df = create_phase_category(df)"
   ]
  },
  {
   "cell_type": "markdown",
   "metadata": {},
   "source": [
    "> A função visualize_with_datashader tem um dicionário que define as cores dos pontos para cada estação de tempo do jogo, onde: early é lightyellow, mid é tomato e late é firebrick."
   ]
  },
  {
   "cell_type": "code",
   "execution_count": 12,
   "metadata": {},
   "outputs": [
    {
     "ename": "AttributeError",
     "evalue": "'Image' object has no attribute 'show'",
     "output_type": "error",
     "traceback": [
      "\u001b[1;31m---------------------------------------------------------------------------\u001b[0m",
      "\u001b[1;31mAttributeError\u001b[0m                            Traceback (most recent call last)",
      "\u001b[1;32m<ipython-input-12-4af56e84a6eb>\u001b[0m in \u001b[0;36m<module>\u001b[1;34m\u001b[0m\n\u001b[0;32m     11\u001b[0m \u001b[1;33m\u001b[0m\u001b[0m\n\u001b[0;32m     12\u001b[0m \u001b[0mimg\u001b[0m \u001b[1;33m=\u001b[0m \u001b[0mvisualise_with_datashader\u001b[0m\u001b[1;33m(\u001b[0m\u001b[0mdf\u001b[0m\u001b[1;33m)\u001b[0m\u001b[1;33m\u001b[0m\u001b[1;33m\u001b[0m\u001b[0m\n\u001b[1;32m---> 13\u001b[1;33m \u001b[0mimg\u001b[0m\u001b[1;33m.\u001b[0m\u001b[0mshow\u001b[0m\u001b[1;33m(\u001b[0m\u001b[1;33m)\u001b[0m\u001b[1;33m\u001b[0m\u001b[1;33m\u001b[0m\u001b[0m\n\u001b[0m",
      "\u001b[1;32mC:\\ProgramData\\Anaconda3\\lib\\site-packages\\xarray\\core\\common.py\u001b[0m in \u001b[0;36m__getattr__\u001b[1;34m(self, name)\u001b[0m\n\u001b[0;32m    231\u001b[0m                     \u001b[1;32mreturn\u001b[0m \u001b[0msource\u001b[0m\u001b[1;33m[\u001b[0m\u001b[0mname\u001b[0m\u001b[1;33m]\u001b[0m\u001b[1;33m\u001b[0m\u001b[1;33m\u001b[0m\u001b[0m\n\u001b[0;32m    232\u001b[0m         raise AttributeError(\n\u001b[1;32m--> 233\u001b[1;33m             \u001b[1;34m\"{!r} object has no attribute {!r}\"\u001b[0m\u001b[1;33m.\u001b[0m\u001b[0mformat\u001b[0m\u001b[1;33m(\u001b[0m\u001b[0mtype\u001b[0m\u001b[1;33m(\u001b[0m\u001b[0mself\u001b[0m\u001b[1;33m)\u001b[0m\u001b[1;33m.\u001b[0m\u001b[0m__name__\u001b[0m\u001b[1;33m,\u001b[0m \u001b[0mname\u001b[0m\u001b[1;33m)\u001b[0m\u001b[1;33m\u001b[0m\u001b[1;33m\u001b[0m\u001b[0m\n\u001b[0m\u001b[0;32m    234\u001b[0m         )\n\u001b[0;32m    235\u001b[0m \u001b[1;33m\u001b[0m\u001b[0m\n",
      "\u001b[1;31mAttributeError\u001b[0m: 'Image' object has no attribute 'show'"
     ]
    }
   ],
   "source": [
    "def visualise_with_datashader(df):\n",
    "    color_key = {'very_early': 'black', 'early': 'lightyellow', 'mid': 'tomato', 'late': 'firebrick'}\n",
    "    \n",
    "    cvs = ds.Canvas()\n",
    "    agg = cvs.points(df, 'x_pos', 'y_pos', ds.count_cat('phase'))\n",
    "    \n",
    "    img = tf.shade(agg, color_key=color_key, how='eq_hist')\n",
    "    img = tf.set_background(img, 'black')\n",
    "    \n",
    "    return(img)\n",
    "  \n",
    "img = visualise_with_datashader(df)\n",
    "img.show()"
   ]
  },
  {
   "cell_type": "code",
   "execution_count": null,
   "metadata": {},
   "outputs": [],
   "source": []
  }
 ],
 "metadata": {
  "kernelspec": {
   "display_name": "Python 3",
   "language": "python",
   "name": "python3"
  },
  "language_info": {
   "codemirror_mode": {
    "name": "ipython",
    "version": 3
   },
   "file_extension": ".py",
   "mimetype": "text/x-python",
   "name": "python",
   "nbconvert_exporter": "python",
   "pygments_lexer": "ipython3",
   "version": "3.7.6"
  }
 },
 "nbformat": 4,
 "nbformat_minor": 4
}
