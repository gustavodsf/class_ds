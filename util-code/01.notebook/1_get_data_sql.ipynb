{
 "cells": [
  {
   "cell_type": "markdown",
   "metadata": {},
   "source": [
    "### Extrai informações da base de dados do EPM"
   ]
  },
  {
   "cell_type": "code",
   "execution_count": 1,
   "metadata": {},
   "outputs": [],
   "source": [
    "import pyodbc\n",
    "import pandas as pd\n",
    "from tqdm import tqdm\n",
    "import os"
   ]
  },
  {
   "cell_type": "markdown",
   "metadata": {},
   "source": [
    "> Parâmetros de conexão na base de dados."
   ]
  },
  {
   "cell_type": "code",
   "execution_count": 2,
   "metadata": {},
   "outputs": [],
   "source": [
    "server = '20.186.181.130' \n",
    "database = 'EPM_Database1' \n",
    "username = 'epasa' \n",
    "password = 'ep@s@#2020' "
   ]
  },
  {
   "cell_type": "markdown",
   "metadata": {},
   "source": [
    "> Busca da base de dados a tags que foram cadastradas no sistema."
   ]
  },
  {
   "cell_type": "code",
   "execution_count": 4,
   "metadata": {},
   "outputs": [],
   "source": [
    "cnxn = pyodbc.connect('DRIVER={ODBC Driver 17 for SQL Server};SERVER='+server+';DATABASE='+database+';UID='+username+';PWD='+ password)\n",
    "df_tags = pd.read_sql_query(\"select * from Epm_Tags\", cnxn)\n",
    "tags_list = df_tags['Name'].unique()\n",
    "cnxn.close()\n"
   ]
  },
  {
   "cell_type": "markdown",
   "metadata": {},
   "source": [
    "> Lista de tags para serem extraidas da base de dados"
   ]
  },
  {
   "cell_type": "code",
   "execution_count": 5,
   "metadata": {},
   "outputs": [],
   "source": [
    "tags_generating_unit = ['1ST1000','1TE6575','1TE6180A','1TE6180B','2PT6180A','2PT6180B','1ST1004A','1ST1004B','2GT1022','1PT5070','1TE5070','ANALOG_164']\n",
    "tags_factory = ['FQ003']"
   ]
  },
  {
   "cell_type": "markdown",
   "metadata": {},
   "source": [
    "> Monta um dicionário com todas as tags que tem de extrair para cada unidade geradora"
   ]
  },
  {
   "cell_type": "code",
   "execution_count": 7,
   "metadata": {},
   "outputs": [],
   "source": [
    "# tag_per_machine = {}\n",
    "# for i in range(1,41):\n",
    "#     machine_number = 'UGD{}'.format(i)\n",
    "#     filtered_tags = []\n",
    "#     for tag in tags_generating_unit:\n",
    "#             filtered_tags = filtered_tags + list(filter(lambda x: machine_number+\"_\" in x and tag in x, tags_list))\n",
    "#     tag_per_machine[machine_number] = filtered_tags"
   ]
  },
  {
   "cell_type": "markdown",
   "metadata": {},
   "source": [
    "> Busca as tags e escreve os arquivos, um arquivo para cada tag"
   ]
  },
  {
   "cell_type": "code",
   "execution_count": 8,
   "metadata": {},
   "outputs": [],
   "source": [
    "# for key, item in tqdm(tag_per_machine.items()):\n",
    "#     if key not in ['UGD1','UGD2','UGD3','UGD4','UGD5']:\n",
    "#         os.mkdir(+key)\n",
    "#         for i in range(len(item)):\n",
    "#             cnxn = pyodbc.connect('DRIVER={ODBC Driver 17 for SQL Server};SERVER='+server+';DATABASE='+database+';UID='+username+';PWD='+ password)\n",
    "#             query = \"SELECT CAST(A.Timestamp as smalldatetime) as DataHora, CAST(A.Value as numeric) AS {} FROM dbo.EpmQueryRawFunction(-3,'01/01/2018 00:00:00','05/30/2020 00:00:00',0,0,'{}') AS A\".format(item[i], item[i])\n",
    "#             unidade_geradora = pd.read_sql_query(query, cnxn)\n",
    "#             unidade_geradora.to_csv('./../../dataset/01.real/epm/{}/{}_{}.tar.xz'.format(key,key,item[i]), chunksize=10000, compression='xz')\n",
    "#             cnxn.close()"
   ]
  },
  {
   "cell_type": "markdown",
   "metadata": {},
   "source": [
    "> Escreve um arquivo exlusivo para uma tag."
   ]
  },
  {
   "cell_type": "code",
   "execution_count": 9,
   "metadata": {},
   "outputs": [],
   "source": [
    "# # pd.read_csv('UGD1_Main_1ST1000.tar.xz', compression='xz')\n",
    "# tag = \"UGD1_Main_1ST1000\"\n",
    "# cnxn = pyodbc.connect('DRIVER={ODBC Driver 17 for SQL Server};SERVER='+server+';DATABASE='+database+';UID='+username+';PWD='+ password)\n",
    "# query = \"SELECT CAST(A.Timestamp as smalldatetime) as DataHora, CAST(A.Value as numeric) AS {} FROM dbo.EpmQueryRawFunction(-3,'01/01/2018 00:00:00','02/02/2018 00:00:00',0,0,'{}') AS A\".format(tag, tag)\n",
    "# unidade_geradora = pd.read_sql_query(query, cnxn)\n",
    "# unidade_geradora.to_csv('{}.tar.xz'.format('UGD1_Main_1ST1000'), chunksize=10000, compression='xz')\n",
    "# cnxn.close()"
   ]
  },
  {
   "cell_type": "code",
   "execution_count": 11,
   "metadata": {},
   "outputs": [],
   "source": [
    "def get_tag_from_database(tag):\n",
    "    print(tag)"
   ]
  },
  {
   "cell_type": "markdown",
   "metadata": {},
   "source": [
    "> Capturar todas as tags do banco de dados"
   ]
  }
 ],
 "metadata": {
  "kernelspec": {
   "display_name": "Python 3",
   "language": "python",
   "name": "python3"
  },
  "language_info": {
   "codemirror_mode": {
    "name": "ipython",
    "version": 3
   },
   "file_extension": ".py",
   "mimetype": "text/x-python",
   "name": "python",
   "nbconvert_exporter": "python",
   "pygments_lexer": "ipython3",
   "version": "3.7.6"
  }
 },
 "nbformat": 4,
 "nbformat_minor": 4
}
