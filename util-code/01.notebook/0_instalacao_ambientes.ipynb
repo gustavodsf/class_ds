{
 "cells": [
  {
   "cell_type": "markdown",
   "metadata": {},
   "source": [
    "# Instalação dos Ambientes"
   ]
  },
  {
   "cell_type": "markdown",
   "metadata": {},
   "source": [
    "Instalação do anaconda pelo site, caso prefirir utilizar como base.\n",
    "\n",
    "__Existem dois ambientes:__\n",
    "- ml: possui pacotes básicos de machine learning.\n",
    "- deep: adicionado ao ml o tensorflow==2.0\n",
    "\n",
    "__Recriar o ambiente__\n",
    "- conda env create -f env_ml.yml\n",
    "- conda env create -f env_deep.yml\n",
    "\n",
    "__Gerar um novo ambiente__\n",
    "- conda env export > env_nome.yml "
   ]
  },
  {
   "cell_type": "markdown",
   "metadata": {},
   "source": [
    "## Teste ambiente (deep) -  Simple MNIST convnet "
   ]
  },
  {
   "cell_type": "code",
   "execution_count": 1,
   "metadata": {},
   "outputs": [],
   "source": [
    "import numpy as np\n",
    "from tensorflow import keras\n",
    "from tensorflow.keras import layers"
   ]
  },
  {
   "cell_type": "markdown",
   "metadata": {},
   "source": [
    "### Prepare the data"
   ]
  },
  {
   "cell_type": "code",
   "execution_count": 2,
   "metadata": {},
   "outputs": [
    {
     "name": "stdout",
     "output_type": "stream",
     "text": [
      "x_train shape: (60000, 28, 28, 1)\n",
      "60000 train samples\n",
      "10000 test samples\n"
     ]
    }
   ],
   "source": [
    "# Model / data parameters\n",
    "num_classes = 10\n",
    "input_shape = (28, 28, 1)\n",
    "\n",
    "# the data, split between train and test sets\n",
    "(x_train, y_train), (x_test, y_test) = keras.datasets.mnist.load_data()\n",
    "\n",
    "# Scale images to the [0, 1] range\n",
    "x_train = x_train.astype(\"float32\") / 255\n",
    "x_test = x_test.astype(\"float32\") / 255\n",
    "# Make sure images have shape (28, 28, 1)\n",
    "x_train = np.expand_dims(x_train, -1)\n",
    "x_test = np.expand_dims(x_test, -1)\n",
    "print(\"x_train shape:\", x_train.shape)\n",
    "print(x_train.shape[0], \"train samples\")\n",
    "print(x_test.shape[0], \"test samples\")\n",
    "\n",
    "\n",
    "# convert class vectors to binary class matrices\n",
    "y_train = keras.utils.to_categorical(y_train, num_classes)\n",
    "y_test = keras.utils.to_categorical(y_test, num_classes)"
   ]
  },
  {
   "cell_type": "markdown",
   "metadata": {},
   "source": [
    "### Build the model"
   ]
  },
  {
   "cell_type": "code",
   "execution_count": 3,
   "metadata": {},
   "outputs": [
    {
     "name": "stdout",
     "output_type": "stream",
     "text": [
      "Model: \"sequential\"\n",
      "_________________________________________________________________\n",
      "Layer (type)                 Output Shape              Param #   \n",
      "=================================================================\n",
      "conv2d (Conv2D)              (None, 26, 26, 32)        320       \n",
      "_________________________________________________________________\n",
      "max_pooling2d (MaxPooling2D) (None, 13, 13, 32)        0         \n",
      "_________________________________________________________________\n",
      "conv2d_1 (Conv2D)            (None, 11, 11, 64)        18496     \n",
      "_________________________________________________________________\n",
      "max_pooling2d_1 (MaxPooling2 (None, 5, 5, 64)          0         \n",
      "_________________________________________________________________\n",
      "flatten (Flatten)            (None, 1600)              0         \n",
      "_________________________________________________________________\n",
      "dropout (Dropout)            (None, 1600)              0         \n",
      "_________________________________________________________________\n",
      "dense (Dense)                (None, 10)                16010     \n",
      "=================================================================\n",
      "Total params: 34,826\n",
      "Trainable params: 34,826\n",
      "Non-trainable params: 0\n",
      "_________________________________________________________________\n"
     ]
    }
   ],
   "source": [
    "model = keras.Sequential(\n",
    "    [\n",
    "        keras.Input(shape=input_shape),\n",
    "        layers.Conv2D(32, kernel_size=(3, 3), activation=\"relu\"),\n",
    "        layers.MaxPooling2D(pool_size=(2, 2)),\n",
    "        layers.Conv2D(64, kernel_size=(3, 3), activation=\"relu\"),\n",
    "        layers.MaxPooling2D(pool_size=(2, 2)),\n",
    "        layers.Flatten(),\n",
    "        layers.Dropout(0.5),\n",
    "        layers.Dense(num_classes, activation=\"softmax\"),\n",
    "    ]\n",
    ")\n",
    "\n",
    "model.summary()"
   ]
  },
  {
   "cell_type": "markdown",
   "metadata": {},
   "source": [
    "### Train the model"
   ]
  },
  {
   "cell_type": "code",
   "execution_count": 4,
   "metadata": {},
   "outputs": [
    {
     "name": "stdout",
     "output_type": "stream",
     "text": [
      "Train on 54000 samples, validate on 6000 samples\n",
      "Epoch 1/15\n",
      "54000/54000 [==============================] - 22s 400us/sample - loss: 0.3609 - accuracy: 0.8906 - val_loss: 0.0796 - val_accuracy: 0.9778\n",
      "Epoch 2/15\n",
      "54000/54000 [==============================] - 21s 382us/sample - loss: 0.1073 - accuracy: 0.9679 - val_loss: 0.0568 - val_accuracy: 0.9843\n",
      "Epoch 3/15\n",
      "54000/54000 [==============================] - 22s 400us/sample - loss: 0.0852 - accuracy: 0.9735 - val_loss: 0.0464 - val_accuracy: 0.9883\n",
      "Epoch 4/15\n",
      "54000/54000 [==============================] - 24s 435us/sample - loss: 0.0695 - accuracy: 0.9785 - val_loss: 0.0424 - val_accuracy: 0.9882\n",
      "Epoch 5/15\n",
      "54000/54000 [==============================] - 26s 474us/sample - loss: 0.0615 - accuracy: 0.9810 - val_loss: 0.0380 - val_accuracy: 0.9912\n",
      "Epoch 6/15\n",
      "54000/54000 [==============================] - 23s 432us/sample - loss: 0.0549 - accuracy: 0.9831 - val_loss: 0.0355 - val_accuracy: 0.9883\n",
      "Epoch 7/15\n",
      "54000/54000 [==============================] - 24s 440us/sample - loss: 0.0511 - accuracy: 0.9837 - val_loss: 0.0347 - val_accuracy: 0.9893\n",
      "Epoch 8/15\n",
      "54000/54000 [==============================] - 23s 435us/sample - loss: 0.0459 - accuracy: 0.9858 - val_loss: 0.0328 - val_accuracy: 0.9908\n",
      "Epoch 9/15\n",
      "54000/54000 [==============================] - 24s 449us/sample - loss: 0.0431 - accuracy: 0.9864 - val_loss: 0.0317 - val_accuracy: 0.9910\n",
      "Epoch 10/15\n",
      "54000/54000 [==============================] - 26s 473us/sample - loss: 0.0392 - accuracy: 0.9871 - val_loss: 0.0292 - val_accuracy: 0.9918\n",
      "Epoch 11/15\n",
      "54000/54000 [==============================] - 24s 449us/sample - loss: 0.0377 - accuracy: 0.9882 - val_loss: 0.0308 - val_accuracy: 0.9918\n",
      "Epoch 12/15\n",
      "54000/54000 [==============================] - 23s 430us/sample - loss: 0.0377 - accuracy: 0.9878 - val_loss: 0.0281 - val_accuracy: 0.9923\n",
      "Epoch 13/15\n",
      "54000/54000 [==============================] - 22s 401us/sample - loss: 0.0340 - accuracy: 0.9891 - val_loss: 0.0260 - val_accuracy: 0.9932\n",
      "Epoch 14/15\n",
      "54000/54000 [==============================] - 22s 410us/sample - loss: 0.0324 - accuracy: 0.9890 - val_loss: 0.0267 - val_accuracy: 0.9922\n",
      "Epoch 15/15\n",
      "54000/54000 [==============================] - 23s 432us/sample - loss: 0.0322 - accuracy: 0.9891 - val_loss: 0.0272 - val_accuracy: 0.9932\n"
     ]
    },
    {
     "data": {
      "text/plain": [
       "<tensorflow.python.keras.callbacks.History at 0x25db27d5a48>"
      ]
     },
     "execution_count": 4,
     "metadata": {},
     "output_type": "execute_result"
    }
   ],
   "source": [
    "batch_size = 128\n",
    "epochs = 15\n",
    "\n",
    "model.compile(loss=\"categorical_crossentropy\", optimizer=\"adam\", metrics=[\"accuracy\"])\n",
    "\n",
    "model.fit(x_train, y_train, batch_size=batch_size, epochs=epochs, validation_split=0.1)"
   ]
  },
  {
   "cell_type": "markdown",
   "metadata": {},
   "source": [
    "### Evaluate the trained model"
   ]
  },
  {
   "cell_type": "code",
   "execution_count": 5,
   "metadata": {},
   "outputs": [
    {
     "name": "stdout",
     "output_type": "stream",
     "text": [
      "Test loss: 0.02473167229988321\n",
      "Test accuracy: 0.9912\n"
     ]
    }
   ],
   "source": [
    "score = model.evaluate(x_test, y_test, verbose=0)\n",
    "print(\"Test loss:\", score[0])\n",
    "print(\"Test accuracy:\", score[1])"
   ]
  },
  {
   "cell_type": "code",
   "execution_count": null,
   "metadata": {},
   "outputs": [],
   "source": []
  }
 ],
 "metadata": {
  "kernelspec": {
   "display_name": "Python 3",
   "language": "python",
   "name": "python3"
  },
  "language_info": {
   "codemirror_mode": {
    "name": "ipython",
    "version": 3
   },
   "file_extension": ".py",
   "mimetype": "text/x-python",
   "name": "python",
   "nbconvert_exporter": "python",
   "pygments_lexer": "ipython3",
   "version": "3.7.7"
  }
 },
 "nbformat": 4,
 "nbformat_minor": 4
}
